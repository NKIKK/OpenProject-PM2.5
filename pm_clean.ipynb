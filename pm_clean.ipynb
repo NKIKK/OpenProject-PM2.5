{
 "cells": [
  {
   "cell_type": "code",
   "execution_count": 3,
   "metadata": {},
   "outputs": [],
   "source": [
    "import findspark\n",
    "from pyspark.sql import SparkSession\n",
    "\n",
    "findspark.init()\n",
    "cluster_url = 'local'"
   ]
  },
  {
   "cell_type": "code",
   "execution_count": 4,
   "metadata": {},
   "outputs": [],
   "source": [
    "spark = SparkSession.builder\\\n",
    "        .master(cluster_url)\\\n",
    "        .appName('SparkSQL')\\\n",
    "        .getOrCreate()"
   ]
  },
  {
   "cell_type": "code",
   "execution_count": 5,
   "metadata": {},
   "outputs": [],
   "source": [
    "path = 'SFA Data\\ID_INFO_SFA.csv'\n",
    "df = spark.read.option(\"delimiter\", \",\").option(\"header\", True).csv(path)\n",
    "# df.show(5)"
   ]
  },
  {
   "cell_type": "code",
   "execution_count": 6,
   "metadata": {},
   "outputs": [
    {
     "name": "stdout",
     "output_type": "stream",
     "text": [
      "root\n",
      " |-- id: string (nullable = true)\n",
      " |-- device_id: string (nullable = true)\n",
      " |-- name_th: string (nullable = true)\n",
      " |-- name_en: string (nullable = true)\n",
      " |-- lat: string (nullable = true)\n",
      " |-- long: string (nullable = true)\n",
      "\n"
     ]
    }
   ],
   "source": [
    "df.printSchema()"
   ]
  },
  {
   "cell_type": "code",
   "execution_count": 7,
   "metadata": {},
   "outputs": [],
   "source": [
    "path = 'SFA Data\\ID_DATA_SFA.csv'\n",
    "df2 = spark.read.option(\"delimiter\", \",\").option(\"header\", True).csv(path)\n",
    "# df2.show(5)"
   ]
  },
  {
   "cell_type": "code",
   "execution_count": 8,
   "metadata": {},
   "outputs": [
    {
     "name": "stdout",
     "output_type": "stream",
     "text": [
      "root\n",
      " |-- _c0: string (nullable = true)\n",
      " |-- device_id: string (nullable = true)\n",
      " |-- time_aq: string (nullable = true)\n",
      " |-- temp: string (nullable = true)\n",
      " |-- humid: string (nullable = true)\n",
      " |-- pm25_corrected: string (nullable = true)\n",
      " |-- pm10_corrected: string (nullable = true)\n",
      "\n"
     ]
    }
   ],
   "source": [
    "df2.printSchema()"
   ]
  },
  {
   "cell_type": "code",
   "execution_count": 9,
   "metadata": {},
   "outputs": [],
   "source": [
    "df_merge=df.join(df2,['device_id'],how='outer')"
   ]
  },
  {
   "cell_type": "code",
   "execution_count": 10,
   "metadata": {},
   "outputs": [],
   "source": [
    "# df_merge.show(10)"
   ]
  },
  {
   "cell_type": "code",
   "execution_count": 11,
   "metadata": {},
   "outputs": [],
   "source": [
    "df_merge=df_merge.dropna()\n",
    "# df_merge.show(10)"
   ]
  },
  {
   "cell_type": "code",
   "execution_count": 12,
   "metadata": {},
   "outputs": [],
   "source": [
    "# df_merge.write.csv('pm_clean.csv')"
   ]
  },
  {
   "cell_type": "code",
   "execution_count": 18,
   "metadata": {},
   "outputs": [],
   "source": [
    "df_merge.repartition(25).write.format('com.databricks.spark.csv').save('pm_clean.csv',header = 'true')"
   ]
  },
  {
   "cell_type": "code",
   "execution_count": null,
   "metadata": {},
   "outputs": [],
   "source": [
    "df2 = spark.read.option(\"delimiter\", \",\").option(\"header\", True).csv('pm_clean.csv')"
   ]
  },
  {
   "cell_type": "code",
   "execution_count": null,
   "metadata": {},
   "outputs": [
    {
     "name": "stdout",
     "output_type": "stream",
     "text": [
      "+---------------+---+-------------------+-----------------------------+---------+----------+---+-----------------------+----+----+----+----+\n",
      "|868333030868281| 24|*****กรมทรัพยากรน้ำ|Department of Water Resources|13.785348|100.539084|  2|2020-07-20 18:17:52.707|33.1|67.9|11.2|23.1|\n",
      "+---------------+---+-------------------+-----------------------------+---------+----------+---+-----------------------+----+----+----+----+\n",
      "|868333030868281| 24|*****กรมทรัพยากรน้ำ|         Department of Wat...|13.785348|100.539084|  6|   2020-07-20 18:22:...|33.1|69.3|10.4|21.6|\n",
      "|868333030868281| 24|*****กรมทรัพยากรน้ำ|         Department of Wat...|13.785348|100.539084| 10|   2020-07-20 18:27:...|32.9|70.5| 9.7|20.9|\n",
      "|868333030868281| 24|*****กรมทรัพยากรน้ำ|         Department of Wat...|13.785348|100.539084| 14|   2020-07-20 18:32:...|32.9|71.2| 8.9|19.4|\n",
      "|868333030868281| 24|*****กรมทรัพยากรน้ำ|         Department of Wat...|13.785348|100.539084| 18|   2020-07-20 18:37:...|32.8|71.6| 8.9|19.4|\n",
      "|868333030868281| 24|*****กรมทรัพยากรน้ำ|         Department of Wat...|13.785348|100.539084| 21|   2020-07-20 18:42:...|32.7|72.3| 8.9|17.9|\n",
      "+---------------+---+-------------------+-----------------------------+---------+----------+---+-----------------------+----+----+----+----+\n",
      "only showing top 5 rows\n",
      "\n"
     ]
    }
   ],
   "source": [
    "# df2.show(5)"
   ]
  },
  {
   "cell_type": "code",
   "execution_count": null,
   "metadata": {},
   "outputs": [],
   "source": []
  }
 ],
 "metadata": {
  "interpreter": {
   "hash": "ef98beed530724fd48f935abab518c0f3e16171ba4883f2358360793e5698786"
  },
  "kernelspec": {
   "display_name": "Python 3.8.8 ('base')",
   "language": "python",
   "name": "python3"
  },
  "language_info": {
   "codemirror_mode": {
    "name": "ipython",
    "version": 3
   },
   "file_extension": ".py",
   "mimetype": "text/x-python",
   "name": "python",
   "nbconvert_exporter": "python",
   "pygments_lexer": "ipython3",
   "version": "3.8.8"
  },
  "orig_nbformat": 4
 },
 "nbformat": 4,
 "nbformat_minor": 2
}
